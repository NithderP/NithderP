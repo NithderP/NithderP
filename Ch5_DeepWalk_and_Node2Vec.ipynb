{
  "nbformat": 4,
  "nbformat_minor": 0,
  "metadata": {
    "colab": {
      "provenance": [],
      "include_colab_link": true
    },
    "kernelspec": {
      "name": "python3",
      "display_name": "Python 3"
    },
    "language_info": {
      "name": "python"
    },
    "widgets": {
      "application/vnd.jupyter.widget-state+json": {
        "5fa55c22df6c4b4f8f356439529bb2ac": {
          "model_module": "@jupyter-widgets/controls",
          "model_name": "HBoxModel",
          "model_module_version": "1.5.0",
          "state": {
            "_dom_classes": [],
            "_model_module": "@jupyter-widgets/controls",
            "_model_module_version": "1.5.0",
            "_model_name": "HBoxModel",
            "_view_count": null,
            "_view_module": "@jupyter-widgets/controls",
            "_view_module_version": "1.5.0",
            "_view_name": "HBoxView",
            "box_style": "",
            "children": [
              "IPY_MODEL_e1a25ef3423a48a5917d04436fabf08f",
              "IPY_MODEL_3c54118fe7c840c2b7bd28c8828f890f",
              "IPY_MODEL_9ba9b0a843bb4d018f693b599d0c42ef"
            ],
            "layout": "IPY_MODEL_be5a607d7b7e4108b91d9d6324616a73"
          }
        },
        "e1a25ef3423a48a5917d04436fabf08f": {
          "model_module": "@jupyter-widgets/controls",
          "model_name": "HTMLModel",
          "model_module_version": "1.5.0",
          "state": {
            "_dom_classes": [],
            "_model_module": "@jupyter-widgets/controls",
            "_model_module_version": "1.5.0",
            "_model_name": "HTMLModel",
            "_view_count": null,
            "_view_module": "@jupyter-widgets/controls",
            "_view_module_version": "1.5.0",
            "_view_name": "HTMLView",
            "description": "",
            "description_tooltip": null,
            "layout": "IPY_MODEL_48462d91b8a34173b77e462918dced49",
            "placeholder": "​",
            "style": "IPY_MODEL_8e74958360a74d35b62faac695967400",
            "value": "Computing transition probabilities: 100%"
          }
        },
        "3c54118fe7c840c2b7bd28c8828f890f": {
          "model_module": "@jupyter-widgets/controls",
          "model_name": "FloatProgressModel",
          "model_module_version": "1.5.0",
          "state": {
            "_dom_classes": [],
            "_model_module": "@jupyter-widgets/controls",
            "_model_module_version": "1.5.0",
            "_model_name": "FloatProgressModel",
            "_view_count": null,
            "_view_module": "@jupyter-widgets/controls",
            "_view_module_version": "1.5.0",
            "_view_name": "ProgressView",
            "bar_style": "success",
            "description": "",
            "description_tooltip": null,
            "layout": "IPY_MODEL_11b583b428d748578773ce6178756123",
            "max": 2172,
            "min": 0,
            "orientation": "horizontal",
            "style": "IPY_MODEL_8a9d5d526456483aade98f615c949e9a",
            "value": 2172
          }
        },
        "9ba9b0a843bb4d018f693b599d0c42ef": {
          "model_module": "@jupyter-widgets/controls",
          "model_name": "HTMLModel",
          "model_module_version": "1.5.0",
          "state": {
            "_dom_classes": [],
            "_model_module": "@jupyter-widgets/controls",
            "_model_module_version": "1.5.0",
            "_model_name": "HTMLModel",
            "_view_count": null,
            "_view_module": "@jupyter-widgets/controls",
            "_view_module_version": "1.5.0",
            "_view_name": "HTMLView",
            "description": "",
            "description_tooltip": null,
            "layout": "IPY_MODEL_1e51f591715e4b9381468f3c000fe45d",
            "placeholder": "​",
            "style": "IPY_MODEL_791201b33de5441093117cb9291a91e7",
            "value": " 2172/2172 [00:01&lt;00:00, 2111.71it/s]"
          }
        },
        "be5a607d7b7e4108b91d9d6324616a73": {
          "model_module": "@jupyter-widgets/base",
          "model_name": "LayoutModel",
          "model_module_version": "1.2.0",
          "state": {
            "_model_module": "@jupyter-widgets/base",
            "_model_module_version": "1.2.0",
            "_model_name": "LayoutModel",
            "_view_count": null,
            "_view_module": "@jupyter-widgets/base",
            "_view_module_version": "1.2.0",
            "_view_name": "LayoutView",
            "align_content": null,
            "align_items": null,
            "align_self": null,
            "border": null,
            "bottom": null,
            "display": null,
            "flex": null,
            "flex_flow": null,
            "grid_area": null,
            "grid_auto_columns": null,
            "grid_auto_flow": null,
            "grid_auto_rows": null,
            "grid_column": null,
            "grid_gap": null,
            "grid_row": null,
            "grid_template_areas": null,
            "grid_template_columns": null,
            "grid_template_rows": null,
            "height": null,
            "justify_content": null,
            "justify_items": null,
            "left": null,
            "margin": null,
            "max_height": null,
            "max_width": null,
            "min_height": null,
            "min_width": null,
            "object_fit": null,
            "object_position": null,
            "order": null,
            "overflow": null,
            "overflow_x": null,
            "overflow_y": null,
            "padding": null,
            "right": null,
            "top": null,
            "visibility": null,
            "width": null
          }
        },
        "48462d91b8a34173b77e462918dced49": {
          "model_module": "@jupyter-widgets/base",
          "model_name": "LayoutModel",
          "model_module_version": "1.2.0",
          "state": {
            "_model_module": "@jupyter-widgets/base",
            "_model_module_version": "1.2.0",
            "_model_name": "LayoutModel",
            "_view_count": null,
            "_view_module": "@jupyter-widgets/base",
            "_view_module_version": "1.2.0",
            "_view_name": "LayoutView",
            "align_content": null,
            "align_items": null,
            "align_self": null,
            "border": null,
            "bottom": null,
            "display": null,
            "flex": null,
            "flex_flow": null,
            "grid_area": null,
            "grid_auto_columns": null,
            "grid_auto_flow": null,
            "grid_auto_rows": null,
            "grid_column": null,
            "grid_gap": null,
            "grid_row": null,
            "grid_template_areas": null,
            "grid_template_columns": null,
            "grid_template_rows": null,
            "height": null,
            "justify_content": null,
            "justify_items": null,
            "left": null,
            "margin": null,
            "max_height": null,
            "max_width": null,
            "min_height": null,
            "min_width": null,
            "object_fit": null,
            "object_position": null,
            "order": null,
            "overflow": null,
            "overflow_x": null,
            "overflow_y": null,
            "padding": null,
            "right": null,
            "top": null,
            "visibility": null,
            "width": null
          }
        },
        "8e74958360a74d35b62faac695967400": {
          "model_module": "@jupyter-widgets/controls",
          "model_name": "DescriptionStyleModel",
          "model_module_version": "1.5.0",
          "state": {
            "_model_module": "@jupyter-widgets/controls",
            "_model_module_version": "1.5.0",
            "_model_name": "DescriptionStyleModel",
            "_view_count": null,
            "_view_module": "@jupyter-widgets/base",
            "_view_module_version": "1.2.0",
            "_view_name": "StyleView",
            "description_width": ""
          }
        },
        "11b583b428d748578773ce6178756123": {
          "model_module": "@jupyter-widgets/base",
          "model_name": "LayoutModel",
          "model_module_version": "1.2.0",
          "state": {
            "_model_module": "@jupyter-widgets/base",
            "_model_module_version": "1.2.0",
            "_model_name": "LayoutModel",
            "_view_count": null,
            "_view_module": "@jupyter-widgets/base",
            "_view_module_version": "1.2.0",
            "_view_name": "LayoutView",
            "align_content": null,
            "align_items": null,
            "align_self": null,
            "border": null,
            "bottom": null,
            "display": null,
            "flex": null,
            "flex_flow": null,
            "grid_area": null,
            "grid_auto_columns": null,
            "grid_auto_flow": null,
            "grid_auto_rows": null,
            "grid_column": null,
            "grid_gap": null,
            "grid_row": null,
            "grid_template_areas": null,
            "grid_template_columns": null,
            "grid_template_rows": null,
            "height": null,
            "justify_content": null,
            "justify_items": null,
            "left": null,
            "margin": null,
            "max_height": null,
            "max_width": null,
            "min_height": null,
            "min_width": null,
            "object_fit": null,
            "object_position": null,
            "order": null,
            "overflow": null,
            "overflow_x": null,
            "overflow_y": null,
            "padding": null,
            "right": null,
            "top": null,
            "visibility": null,
            "width": null
          }
        },
        "8a9d5d526456483aade98f615c949e9a": {
          "model_module": "@jupyter-widgets/controls",
          "model_name": "ProgressStyleModel",
          "model_module_version": "1.5.0",
          "state": {
            "_model_module": "@jupyter-widgets/controls",
            "_model_module_version": "1.5.0",
            "_model_name": "ProgressStyleModel",
            "_view_count": null,
            "_view_module": "@jupyter-widgets/base",
            "_view_module_version": "1.2.0",
            "_view_name": "StyleView",
            "bar_color": null,
            "description_width": ""
          }
        },
        "1e51f591715e4b9381468f3c000fe45d": {
          "model_module": "@jupyter-widgets/base",
          "model_name": "LayoutModel",
          "model_module_version": "1.2.0",
          "state": {
            "_model_module": "@jupyter-widgets/base",
            "_model_module_version": "1.2.0",
            "_model_name": "LayoutModel",
            "_view_count": null,
            "_view_module": "@jupyter-widgets/base",
            "_view_module_version": "1.2.0",
            "_view_name": "LayoutView",
            "align_content": null,
            "align_items": null,
            "align_self": null,
            "border": null,
            "bottom": null,
            "display": null,
            "flex": null,
            "flex_flow": null,
            "grid_area": null,
            "grid_auto_columns": null,
            "grid_auto_flow": null,
            "grid_auto_rows": null,
            "grid_column": null,
            "grid_gap": null,
            "grid_row": null,
            "grid_template_areas": null,
            "grid_template_columns": null,
            "grid_template_rows": null,
            "height": null,
            "justify_content": null,
            "justify_items": null,
            "left": null,
            "margin": null,
            "max_height": null,
            "max_width": null,
            "min_height": null,
            "min_width": null,
            "object_fit": null,
            "object_position": null,
            "order": null,
            "overflow": null,
            "overflow_x": null,
            "overflow_y": null,
            "padding": null,
            "right": null,
            "top": null,
            "visibility": null,
            "width": null
          }
        },
        "791201b33de5441093117cb9291a91e7": {
          "model_module": "@jupyter-widgets/controls",
          "model_name": "DescriptionStyleModel",
          "model_module_version": "1.5.0",
          "state": {
            "_model_module": "@jupyter-widgets/controls",
            "_model_module_version": "1.5.0",
            "_model_name": "DescriptionStyleModel",
            "_view_count": null,
            "_view_module": "@jupyter-widgets/base",
            "_view_module_version": "1.2.0",
            "_view_name": "StyleView",
            "description_width": ""
          }
        }
      }
    }
  },
  "cells": [
    {
      "cell_type": "markdown",
      "metadata": {
        "id": "view-in-github",
        "colab_type": "text"
      },
      "source": [
        "<a href=\"https://colab.research.google.com/github/NithderP/NithderP/blob/main/Ch5_DeepWalk_and_Node2Vec.ipynb\" target=\"_parent\"><img src=\"https://colab.research.google.com/assets/colab-badge.svg\" alt=\"Open In Colab\"/></a>"
      ]
    },
    {
      "cell_type": "markdown",
      "source": [
        "# Implement DeepWalk to find Similar Wikipedia Pages"
      ],
      "metadata": {
        "id": "4O-3RdyVCcz1"
      }
    },
    {
      "cell_type": "markdown",
      "source": [
        "## Step 1: Create a Wikipedia graph using a tool called Seealsology"
      ],
      "metadata": {
        "id": "dsMH3sfACwj7"
      }
    },
    {
      "cell_type": "markdown",
      "source": [],
      "metadata": {
        "id": "jXe42ibgzQLI"
      }
    },
    {
      "cell_type": "markdown",
      "source": [
        "## Step 2: Once the graph is ready, download the graph data as a TSV file from Seealsology."
      ],
      "metadata": {
        "id": "YJx3EyebC6jU"
      }
    },
    {
      "cell_type": "markdown",
      "source": [
        "## Step 3: Import the required python Libraries"
      ],
      "metadata": {
        "id": "KYR-LK4oDD4F"
      }
    },
    {
      "cell_type": "code",
      "source": [
        "import networkx as nx\n",
        "import pandas as pd\n",
        "import numpy as np\n",
        "import random\n",
        "from tqdm import tqdm\n",
        "from sklearn.decomposition import PCA\n",
        "from gensim.models import Word2Vec\n",
        "\n",
        "import warnings\n",
        "warnings.filterwarnings('ignore')\n",
        "\n",
        "import matplotlib.pyplot as plt\n",
        "%matplotlib inline"
      ],
      "metadata": {
        "id": "RqkcZf00DJy5"
      },
      "execution_count": null,
      "outputs": []
    },
    {
      "cell_type": "markdown",
      "source": [
        "## Step 4: Load dataset"
      ],
      "metadata": {
        "id": "XipHI62bDSMj"
      }
    },
    {
      "cell_type": "code",
      "source": [
        "#from google.colab import drive\n",
        "#drive.mount('/content/drive') # needed to read file on our google drive\n",
        "df = pd.read_csv(\"/content/drive/MyDrive/Teaching/Colab Notebooks/Graph Analytics/Tutorials/Datasets/wikipedia_graph.tsv\", sep = \"\\t\")\n",
        "df.head()"
      ],
      "metadata": {
        "id": "dhWDr5muDXmp"
      },
      "execution_count": null,
      "outputs": []
    },
    {
      "cell_type": "markdown",
      "source": [
        "## Step 5: Construct the graph."
      ],
      "metadata": {
        "id": "RnTRtWuIDYqH"
      }
    },
    {
      "cell_type": "code",
      "source": [
        "G = nx.from_pandas_edgelist(df, \"source\", \"target\", edge_attr=True, create_using=nx.Graph())"
      ],
      "metadata": {
        "id": "3HZn2ynfDddS"
      },
      "execution_count": null,
      "outputs": []
    },
    {
      "cell_type": "markdown",
      "source": [
        "## Step 6: Random Walk"
      ],
      "metadata": {
        "id": "aUegRRs7Dnyv"
      }
    },
    {
      "cell_type": "code",
      "source": [
        "def get_randomwalk(node, path_length):\n",
        "\n",
        "    random_walk = [node]\n",
        "\n",
        "    for i in range(path_length-1):\n",
        "        temp = list(G.neighbors(node))\n",
        "        temp = list(set(temp) - set(random_walk))\n",
        "        if len(temp) == 0:\n",
        "            break\n",
        "\n",
        "        random_node = random.choice(temp)\n",
        "        random_walk.append(random_node)\n",
        "        node = random_node\n",
        "\n",
        "    return random_walk"
      ],
      "metadata": {
        "id": "eshp7FMWDssf"
      },
      "execution_count": null,
      "outputs": []
    },
    {
      "cell_type": "markdown",
      "source": [],
      "metadata": {
        "id": "rx2gU8LxDCCz"
      }
    },
    {
      "cell_type": "markdown",
      "source": [
        "## Step 7: Capture the random walks for all the nodes in our dataset"
      ],
      "metadata": {
        "id": "CMHeu1AfDy5p"
      }
    },
    {
      "cell_type": "code",
      "source": [
        "# get list of all nodes from the graph\n",
        "all_nodes = list(G.nodes())\n",
        "\n",
        "random_walks = []\n",
        "for n in tqdm(all_nodes):\n",
        "    for i in range(5):\n",
        "        random_walks.append(get_randomwalk(n,10))\n",
        "\n",
        "# count of sequences\n",
        "len(random_walks)"
      ],
      "metadata": {
        "id": "jea0TPjSD30W",
        "colab": {
          "base_uri": "https://localhost:8080/"
        },
        "outputId": "83c65a67-5b93-4582-de5d-55457c024108"
      },
      "execution_count": null,
      "outputs": [
        {
          "output_type": "stream",
          "name": "stderr",
          "text": [
            "100%|██████████| 2172/2172 [00:00<00:00, 15359.24it/s]\n"
          ]
        },
        {
          "output_type": "execute_result",
          "data": {
            "text/plain": [
              "10860"
            ]
          },
          "metadata": {},
          "execution_count": 11
        }
      ]
    },
    {
      "cell_type": "markdown",
      "source": [
        "## Step 8: DeepWalk - train the skip-gram model with the random walks"
      ],
      "metadata": {
        "id": "zZ4vRYWBD9Tl"
      }
    },
    {
      "cell_type": "code",
      "source": [
        "# train skip-gram (word2vec) model\n",
        "model = Word2Vec(window = 4, sg = 1, hs = 0,\n",
        "                 negative = 10, # for negative sampling\n",
        "                 alpha=0.03, min_alpha=0.0007,\n",
        "                 seed = 14)\n",
        "\n",
        "model.build_vocab(random_walks, progress_per=2)\n",
        "\n",
        "model.train(random_walks, total_examples = model.corpus_count, epochs=20, report_delay=1)"
      ],
      "metadata": {
        "id": "PuMaiJ2NEBkV",
        "colab": {
          "base_uri": "https://localhost:8080/"
        },
        "outputId": "b6dcd8d9-6e2d-45e0-b1c6-edc069e8c6bf"
      },
      "execution_count": null,
      "outputs": [
        {
          "output_type": "execute_result",
          "data": {
            "text/plain": [
              "(938417, 963300)"
            ]
          },
          "metadata": {},
          "execution_count": 12
        }
      ]
    },
    {
      "cell_type": "markdown",
      "source": [
        "# Step 9: Test the code."
      ],
      "metadata": {
        "id": "6Xvw9UBDEJZ3"
      }
    },
    {
      "cell_type": "markdown",
      "source": [
        "Let’s find out the most similar pages to “space tourism”."
      ],
      "metadata": {
        "id": "h7jOvvowEbhM"
      }
    },
    {
      "cell_type": "code",
      "execution_count": null,
      "metadata": {
        "id": "1pUmRRYaCUFL"
      },
      "outputs": [],
      "source": [
        "model.wv.similar_by_word('space tourism')"
      ]
    },
    {
      "cell_type": "markdown",
      "source": [
        "Let's see how well our node embeddings capture the similarity between different nodes. Handpick a few nodes from the graph and plot them on a 2-dimensional space."
      ],
      "metadata": {
        "id": "BBPCX5flEIXs"
      }
    },
    {
      "cell_type": "code",
      "source": [
        "terms = ['lunar escape systems','soviet moonshot', 'soyuz 7k-l1',\n",
        "         'moon landing','space food', 'food systems on space exploration missions',\n",
        "         'meal, ready-to-eat','space law', 'metalaw', 'moon treaty',\n",
        "         'legal aspects of computing','astronaut training', 'reduced-gravity aircraft',\n",
        "         'space adaptation syndrome', 'micro-g environment']"
      ],
      "metadata": {
        "id": "t0uWMAFJEYNO"
      },
      "execution_count": null,
      "outputs": []
    },
    {
      "cell_type": "code",
      "source": [
        "def plot_nodes(word_list):\n",
        "    X = model.wv[word_list]\n",
        "\n",
        "    # reduce dimensions to 2\n",
        "    pca = PCA(n_components=2)\n",
        "    result = pca.fit_transform(X)\n",
        "\n",
        "\n",
        "    plt.figure(figsize=(12,9))\n",
        "    # create a scatter plot of the projection\n",
        "    plt.scatter(result[:, 0], result[:, 1])\n",
        "    for i, word in enumerate(word_list):\n",
        "        plt.annotate(word, xy=(result[i, 0], result[i, 1]))\n",
        "\n",
        "    plt.show()"
      ],
      "metadata": {
        "id": "Y5yMbN9FEkxq"
      },
      "execution_count": null,
      "outputs": []
    },
    {
      "cell_type": "code",
      "source": [
        "plot_nodes(terms)"
      ],
      "metadata": {
        "colab": {
          "base_uri": "https://localhost:8080/",
          "height": 753
        },
        "id": "6RwLlCvJHu5Q",
        "outputId": "5433012a-1090-4e3b-bb13-05b9637c71ad"
      },
      "execution_count": null,
      "outputs": [
        {
          "output_type": "display_data",
          "data": {
            "text/plain": [
              "<Figure size 1200x900 with 1 Axes>"
            ],
            "image/png": "[encoded data removed]"
          },
          "metadata": {}
        }
      ]
    },
    {
      "cell_type": "markdown",
      "source": [
        "# Node2vec"
      ],
      "metadata": {
        "id": "uEReYrUessd4"
      }
    },
    {
      "cell_type": "code",
      "source": [
        "pip install node2vec"
      ],
      "metadata": {
        "colab": {
          "base_uri": "https://localhost:8080/"
        },
        "id": "4kuq1r56te4M",
        "outputId": "134d5315-1777-40b2-8e8c-b7c59e407c81"
      },
      "execution_count": null,
      "outputs": [
        {
          "output_type": "stream",
          "name": "stdout",
          "text": [
            "Collecting node2vec\n",
            "  Downloading node2vec-0.5.0-py3-none-any.whl.metadata (849 bytes)\n",
            "Requirement already satisfied: gensim<5.0.0,>=4.3.0 in /usr/local/lib/python3.10/dist-packages (from node2vec) (4.3.3)\n",
            "Requirement already satisfied: joblib<2.0.0,>=1.4.0 in /usr/local/lib/python3.10/dist-packages (from node2vec) (1.4.2)\n",
            "Requirement already satisfied: networkx<4.0.0,>=3.1.0 in /usr/local/lib/python3.10/dist-packages (from node2vec) (3.3)\n",
            "Requirement already satisfied: numpy<2.0.0,>=1.24.0 in /usr/local/lib/python3.10/dist-packages (from node2vec) (1.26.4)\n",
            "Requirement already satisfied: tqdm<5.0.0,>=4.66.1 in /usr/local/lib/python3.10/dist-packages (from node2vec) (4.66.5)\n",
            "Requirement already satisfied: scipy<1.14.0,>=1.7.0 in /usr/local/lib/python3.10/dist-packages (from gensim<5.0.0,>=4.3.0->node2vec) (1.13.1)\n",
            "Requirement already satisfied: smart-open>=1.8.1 in /usr/local/lib/python3.10/dist-packages (from gensim<5.0.0,>=4.3.0->node2vec) (7.0.4)\n",
            "Requirement already satisfied: wrapt in /usr/local/lib/python3.10/dist-packages (from smart-open>=1.8.1->gensim<5.0.0,>=4.3.0->node2vec) (1.16.0)\n",
            "Downloading node2vec-0.5.0-py3-none-any.whl (7.2 kB)\n",
            "Installing collected packages: node2vec\n",
            "Successfully installed node2vec-0.5.0\n"
          ]
        }
      ]
    },
    {
      "cell_type": "code",
      "source": [
        "import networkx as nx\n",
        "from node2vec import Node2Vec\n",
        "\n",
        "# Initialize Node2Vec with the graph G\n",
        "node2vec = Node2Vec(G, dimensions=32, walk_length=10, num_walks=50, workers=4)\n",
        "\n",
        "# Generate random walks\n",
        "walks = node2vec.walks\n",
        "\n",
        "# Train the Node2Vec model\n",
        "model_n2v = node2vec.fit(window=10, min_count=1, batch_words=4)\n",
        "\n",
        "# Get node embeddings\n",
        "node_embeddings = {node: model_n2v.wv[node] for node in G.nodes()}\n"
      ],
      "metadata": {
        "colab": {
          "base_uri": "https://localhost:8080/",
          "height": 49,
          "referenced_widgets": [
            "5fa55c22df6c4b4f8f356439529bb2ac",
            "e1a25ef3423a48a5917d04436fabf08f",
            "3c54118fe7c840c2b7bd28c8828f890f",
            "9ba9b0a843bb4d018f693b599d0c42ef",
            "be5a607d7b7e4108b91d9d6324616a73",
            "48462d91b8a34173b77e462918dced49",
            "8e74958360a74d35b62faac695967400",
            "11b583b428d748578773ce6178756123",
            "8a9d5d526456483aade98f615c949e9a",
            "1e51f591715e4b9381468f3c000fe45d",
            "791201b33de5441093117cb9291a91e7"
          ]
        },
        "id": "thbLjTPRsu41",
        "outputId": "601031f4-4b94-4223-fb59-976c4097cbfe"
      },
      "execution_count": null,
      "outputs": [
        {
          "output_type": "display_data",
          "data": {
            "text/plain": [
              "Computing transition probabilities:   0%|          | 0/2172 [00:00<?, ?it/s]"
            ],
            "application/vnd.jupyter.widget-view+json": {
              "version_major": 2,
              "version_minor": 0,
              "model_id": "5fa55c22df6c4b4f8f356439529bb2ac"
            }
          },
          "metadata": {}
        }
      ]
    },
    {
      "cell_type": "code",
      "source": [
        "def plot_nodes_n2v(word_list):\n",
        "    X = model_n2v.wv[word_list]\n",
        "\n",
        "    # reduce dimensions to 2\n",
        "    pca = PCA(n_components=2)\n",
        "    result = pca.fit_transform(X)\n",
        "\n",
        "\n",
        "    plt.figure(figsize=(12,9))\n",
        "    # create a scatter plot of the projection\n",
        "    plt.scatter(result[:, 0], result[:, 1])\n",
        "    for i, word in enumerate(word_list):\n",
        "        plt.annotate(word, xy=(result[i, 0], result[i, 1]))\n",
        "\n",
        "    plt.show()"
      ],
      "metadata": {
        "id": "-C6pfc4atQL7"
      },
      "execution_count": null,
      "outputs": []
    },
    {
      "cell_type": "code",
      "source": [
        "plot_nodes_n2v(terms)"
      ],
      "metadata": {
        "id": "wpl3dLnwtTjh",
        "colab": {
          "base_uri": "https://localhost:8080/",
          "height": 753
        },
        "outputId": "b7dd86fa-3d05-405a-89e1-3881b75cd9fd"
      },
      "execution_count": null,
      "outputs": [
        {
          "output_type": "display_data",
          "data": {
            "text/plain": [
              "<Figure size 1200x900 with 1 Axes>"
            ],
            "image/png": "[encoded data removed]"
          },
          "metadata": {}
        }
      ]
    }
  ]
}